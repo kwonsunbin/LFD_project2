{
 "cells": [
  {
   "cell_type": "code",
   "execution_count": 1,
   "metadata": {},
   "outputs": [],
   "source": [
    "import numpy as np"
   ]
  },
  {
   "cell_type": "code",
   "execution_count": 2,
   "metadata": {},
   "outputs": [],
   "source": [
    "a = np.array([1,2,3,4,5])"
   ]
  },
  {
   "cell_type": "code",
   "execution_count": 3,
   "metadata": {},
   "outputs": [
    {
     "data": {
      "text/plain": [
       "array([1, 1, 1, 1])"
      ]
     },
     "execution_count": 3,
     "metadata": {},
     "output_type": "execute_result"
    }
   ],
   "source": [
    "np.diff(a)"
   ]
  },
  {
   "cell_type": "code",
   "execution_count": 6,
   "metadata": {},
   "outputs": [],
   "source": [
    "expected_diff_price = np.ones((3,6))\n",
    "diff = list(zip(*expected_diff_price))"
   ]
  },
  {
   "cell_type": "code",
   "execution_count": 11,
   "metadata": {},
   "outputs": [
    {
     "data": {
      "text/plain": [
       "array([[1., 1., 1., 1., 1., 1.],\n",
       "       [1., 1., 1., 1., 1., 1.],\n",
       "       [1., 1., 1., 1., 1., 1.]])"
      ]
     },
     "execution_count": 11,
     "metadata": {},
     "output_type": "execute_result"
    }
   ],
   "source": [
    "expected_diff_price"
   ]
  },
  {
   "cell_type": "code",
   "execution_count": 10,
   "metadata": {},
   "outputs": [
    {
     "name": "stdout",
     "output_type": "stream",
     "text": [
      "[1. 1. 1. 1. 1. 1.]\n",
      "[1. 1. 1. 1. 1. 1.]\n",
      "[1. 1. 1. 1. 1. 1.]\n"
     ]
    }
   ],
   "source": [
    "for i in expected_diff_price:\n",
    "    print(i)"
   ]
  },
  {
   "cell_type": "code",
   "execution_count": 7,
   "metadata": {},
   "outputs": [
    {
     "data": {
      "text/plain": [
       "[(1.0, 1.0, 1.0),\n",
       " (1.0, 1.0, 1.0),\n",
       " (1.0, 1.0, 1.0),\n",
       " (1.0, 1.0, 1.0),\n",
       " (1.0, 1.0, 1.0),\n",
       " (1.0, 1.0, 1.0)]"
      ]
     },
     "execution_count": 7,
     "metadata": {},
     "output_type": "execute_result"
    }
   ],
   "source": [
    "diff"
   ]
  },
  {
   "cell_type": "code",
   "execution_count": 13,
   "metadata": {},
   "outputs": [
    {
     "data": {
      "text/plain": [
       "array([4, 3, 2, 1, 0])"
      ]
     },
     "execution_count": 13,
     "metadata": {},
     "output_type": "execute_result"
    }
   ],
   "source": [
    "np.arange(5)[::-1]"
   ]
  },
  {
   "cell_type": "code",
   "execution_count": 14,
   "metadata": {},
   "outputs": [
    {
     "data": {
      "text/plain": [
       "array([[[0.5, 0. ],\n",
       "        [0. , 0.5]],\n",
       "\n",
       "       [[0.5, 0. ],\n",
       "        [0. , 0.5]],\n",
       "\n",
       "       [[0.5, 0. ],\n",
       "        [0. , 0.5]],\n",
       "\n",
       "       [[0.5, 0. ],\n",
       "        [0. , 0.5]]])"
      ]
     },
     "execution_count": 14,
     "metadata": {},
     "output_type": "execute_result"
    }
   ],
   "source": [
    ".5* np.tile(np.identity(2),[4,1,1])"
   ]
  },
  {
   "cell_type": "code",
   "execution_count": 18,
   "metadata": {},
   "outputs": [
    {
     "data": {
      "text/plain": [
       "array([0., 0., 0.])"
      ]
     },
     "execution_count": 18,
     "metadata": {},
     "output_type": "execute_result"
    }
   ],
   "source": [
    "np.arange(2,5)/np.arange(2,5) -1"
   ]
  },
  {
   "cell_type": "code",
   "execution_count": 19,
   "metadata": {},
   "outputs": [],
   "source": [
    "import pandas as pd"
   ]
  },
  {
   "cell_type": "code",
   "execution_count": 23,
   "metadata": {},
   "outputs": [
    {
     "data": {
      "text/plain": [
       "2.5"
      ]
     },
     "execution_count": 23,
     "metadata": {},
     "output_type": "execute_result"
    }
   ],
   "source": [
    "pd.DataFrame([[1,2,],[3,4]]).mean().mean()"
   ]
  },
  {
   "cell_type": "code",
   "execution_count": 63,
   "metadata": {},
   "outputs": [
    {
     "name": "stdout",
     "output_type": "stream",
     "text": [
      "([1, 2], [5, 4])\n",
      "([2], 4)\n",
      "(3, 3)\n",
      "(4, 2)\n",
      "(5, 1)\n"
     ]
    }
   ],
   "source": [
    "a= [[1,2],[2],3,4,5]\n",
    "b= [[5,4],4,3,2,1]\n",
    "\n",
    "for i in zip(a,b):\n",
    "    print(i)"
   ]
  },
  {
   "cell_type": "code",
   "execution_count": 9,
   "metadata": {},
   "outputs": [
    {
     "data": {
      "text/plain": [
       "array([1, 2, 5, 4])"
      ]
     },
     "execution_count": 9,
     "metadata": {},
     "output_type": "execute_result"
    }
   ],
   "source": [
    "np.concatenate(([1, 2], [5, 4]))"
   ]
  },
  {
   "cell_type": "code",
   "execution_count": 1,
   "metadata": {},
   "outputs": [],
   "source": [
    "import numpy as np"
   ]
  },
  {
   "cell_type": "code",
   "execution_count": 4,
   "metadata": {},
   "outputs": [
    {
     "data": {
      "text/plain": [
       "array([0.        , 0.66666667])"
      ]
     },
     "execution_count": 4,
     "metadata": {},
     "output_type": "execute_result"
    }
   ],
   "source": [
    "np.multiply([1,2],np.arange(2))/3"
   ]
  },
  {
   "cell_type": "code",
   "execution_count": 55,
   "metadata": {},
   "outputs": [],
   "source": [
    "from sklearn.preprocessing import StandardScaler"
   ]
  },
  {
   "cell_type": "code",
   "execution_count": 56,
   "metadata": {},
   "outputs": [],
   "source": [
    "scaler = StandardScaler()"
   ]
  },
  {
   "cell_type": "code",
   "execution_count": 57,
   "metadata": {},
   "outputs": [],
   "source": [
    "a = np.array([[100,2,3,4],[10,3,2,3],[50,3,2,3]])"
   ]
  },
  {
   "cell_type": "code",
   "execution_count": 58,
   "metadata": {},
   "outputs": [],
   "source": [
    "a_scaled = scaler.fit_transform(a)"
   ]
  },
  {
   "cell_type": "code",
   "execution_count": 59,
   "metadata": {},
   "outputs": [
    {
     "data": {
      "text/plain": [
       "array([[ 1.26750044, -1.41421356,  1.41421356,  1.41421356],\n",
       "       [-1.1769647 ,  0.70710678, -0.70710678, -0.70710678],\n",
       "       [-0.09053575,  0.70710678, -0.70710678, -0.70710678]])"
      ]
     },
     "execution_count": 59,
     "metadata": {},
     "output_type": "execute_result"
    }
   ],
   "source": [
    "a_scaled "
   ]
  },
  {
   "cell_type": "code",
   "execution_count": 70,
   "metadata": {},
   "outputs": [],
   "source": [
    "import pandas as pd\n",
    "import numpy as np"
   ]
  },
  {
   "cell_type": "code",
   "execution_count": 62,
   "metadata": {},
   "outputs": [
    {
     "data": {
      "text/plain": [
       "array([0.5       , 0.66666667, 1.5       ])"
      ]
     },
     "execution_count": 62,
     "metadata": {},
     "output_type": "execute_result"
    }
   ],
   "source": [
    "np.array([1,2,3])/ np.array([2,3,2])"
   ]
  },
  {
   "cell_type": "code",
   "execution_count": 68,
   "metadata": {},
   "outputs": [
    {
     "data": {
      "text/plain": [
       "array([1, 2])"
      ]
     },
     "execution_count": 68,
     "metadata": {},
     "output_type": "execute_result"
    }
   ],
   "source": [
    "np.arange(1,3)"
   ]
  },
  {
   "cell_type": "code",
   "execution_count": 72,
   "metadata": {},
   "outputs": [],
   "source": [
    "a =pd.Series(np.arange(10))"
   ]
  },
  {
   "cell_type": "code",
   "execution_count": 80,
   "metadata": {},
   "outputs": [],
   "source": [
    "b = a.rolling(3).mean()"
   ]
  },
  {
   "cell_type": "code",
   "execution_count": 81,
   "metadata": {
    "scrolled": false
   },
   "outputs": [
    {
     "data": {
      "text/plain": [
       "0    NaN\n",
       "1    NaN\n",
       "2    1.0\n",
       "3    2.0\n",
       "4    3.0\n",
       "5    4.0\n",
       "6    5.0\n",
       "7    6.0\n",
       "8    7.0\n",
       "9    8.0\n",
       "dtype: float64"
      ]
     },
     "execution_count": 81,
     "metadata": {},
     "output_type": "execute_result"
    }
   ],
   "source": [
    "b"
   ]
  },
  {
   "cell_type": "code",
   "execution_count": 88,
   "metadata": {},
   "outputs": [],
   "source": [
    "import os"
   ]
  },
  {
   "cell_type": "code",
   "execution_count": 89,
   "metadata": {},
   "outputs": [],
   "source": [
    "\n",
    "def merge_data(start_date, end_date, symbols):\n",
    "    dates = pd.date_range(start_date, end_date)\n",
    "    df = pd.DataFrame(index=dates)\n",
    "\n",
    "    if 'Gold' not in symbols:\n",
    "        symbols.insert(0, 'Gold')\n",
    "\n",
    "    for symbol in symbols:\n",
    "\n",
    "        if symbol in ['Gold', 'USD'] :\n",
    "            df_temp = pd.read_csv(get_data_path(symbol), index_col=\"Date\", parse_dates=True, na_values=['nan'])\n",
    "            df_temp = df_temp.applymap(lambda x : x.replace(',', ''))\n",
    "            df_temp.columns = [symbol + '_' + col for col in df_temp.columns]  # rename columns\n",
    "            df = df.join(df_temp)\n",
    "            continue\n",
    "\n",
    "        df_temp = pd.read_csv(get_data_path(symbol), index_col=\"Date\", parse_dates=True, na_values=['nan'])\n",
    "        df_temp.columns = [symbol + '_' + col for col in df_temp.columns]  # rename columns\n",
    "        df = df.join(df_temp)\n",
    "\n",
    "    return df"
   ]
  },
  {
   "cell_type": "code",
   "execution_count": 90,
   "metadata": {},
   "outputs": [],
   "source": [
    "\n",
    "def get_data_path(symbol):\n",
    "    # Return CSV file path given symbol.\n",
    "    commodity_dir = '../data/commodities'\n",
    "    currency_dir = '../data/currencies'\n",
    "\n",
    "    if symbol in ['AUD', 'CNY', 'EUR', 'GBP', 'HKD', 'JPY', 'USD']:\n",
    "        path = os.path.join(currency_dir, symbol + '_KRW.csv')\n",
    "    else:\n",
    "        path = os.path.join(commodity_dir, symbol + '.csv')\n",
    "\n",
    "    return path\n"
   ]
  },
  {
   "cell_type": "code",
   "execution_count": 91,
   "metadata": {},
   "outputs": [],
   "source": [
    "table = merge_data('2010-01-01', '2021-04-18', symbols=['Gold'])\n",
    "\n",
    "    # TODO: cleaning or filling missing value\n",
    "table.dropna(subset=['Gold_Price'], inplace=True)\n",
    "\n",
    "    # TODO:  select columns to use\n",
    "gold_price = table['Gold_Price'].astype(float)"
   ]
  },
  {
   "cell_type": "code",
   "execution_count": 92,
   "metadata": {},
   "outputs": [
    {
     "data": {
      "text/plain": [
       "2010-01-04    1117.7\n",
       "2010-01-05    1118.1\n",
       "2010-01-06    1135.9\n",
       "2010-01-07    1133.1\n",
       "2010-01-08    1138.2\n",
       "               ...  \n",
       "2021-03-26    1732.3\n",
       "2021-03-29    1712.2\n",
       "2021-03-30    1683.9\n",
       "2021-03-31    1713.8\n",
       "2021-04-01    1726.5\n",
       "Name: Gold_Price, Length: 2928, dtype: float64"
      ]
     },
     "execution_count": 92,
     "metadata": {},
     "output_type": "execute_result"
    }
   ],
   "source": [
    "gold_price"
   ]
  },
  {
   "cell_type": "code",
   "execution_count": 94,
   "metadata": {},
   "outputs": [],
   "source": [
    "from matplotlib import pyplot as plt"
   ]
  },
  {
   "cell_type": "code",
   "execution_count": 96,
   "metadata": {},
   "outputs": [
    {
     "data": {
      "text/plain": [
       "[<matplotlib.lines.Line2D at 0x7ffd8a0f6940>]"
      ]
     },
     "execution_count": 96,
     "metadata": {},
     "output_type": "execute_result"
    },
    {
     "data": {
      "image/png": "[encoded data removed]",
      "text/plain": [
       "<Figure size 432x288 with 1 Axes>"
      ]
     },
     "metadata": {
      "needs_background": "light"
     },
     "output_type": "display_data"
    }
   ],
   "source": [
    "plt.plot(gold_price)"
   ]
  },
  {
   "cell_type": "code",
   "execution_count": 97,
   "metadata": {},
   "outputs": [
    {
     "data": {
      "text/plain": [
       "2928"
      ]
     },
     "execution_count": 97,
     "metadata": {},
     "output_type": "execute_result"
    }
   ],
   "source": [
    "len(gold_price)"
   ]
  },
  {
   "cell_type": "code",
   "execution_count": 98,
   "metadata": {},
   "outputs": [],
   "source": [
    "import pandas as pd"
   ]
  },
  {
   "cell_type": "code",
   "execution_count": 105,
   "metadata": {},
   "outputs": [
    {
     "data": {
      "text/plain": [
       "2010-01-04    1117.700000\n",
       "2010-01-05    1117.940000\n",
       "2010-01-06    1126.447368\n",
       "2010-01-07    1129.210769\n",
       "2010-01-08    1132.661611\n",
       "                 ...     \n",
       "2021-03-26    1730.513939\n",
       "2021-03-29    1724.409292\n",
       "2021-03-30    1710.906195\n",
       "2021-03-31    1711.870797\n",
       "2021-04-01    1716.747198\n",
       "Name: Gold_Price, Length: 2928, dtype: float64"
      ]
     },
     "execution_count": 105,
     "metadata": {},
     "output_type": "execute_result"
    }
   ],
   "source": [
    "pd.Series(gold_price).ewm(span=5).mean()"
   ]
  },
  {
   "cell_type": "code",
   "execution_count": 106,
   "metadata": {},
   "outputs": [],
   "source": [
    "import pickle"
   ]
  },
  {
   "cell_type": "code",
   "execution_count": 115,
   "metadata": {},
   "outputs": [],
   "source": [
    "hi = pickle.load(open(\"n_compoents\", 'rb'))"
   ]
  },
  {
   "cell_type": "code",
   "execution_count": 116,
   "metadata": {
    "scrolled": false
   },
   "outputs": [
    {
     "data": {
      "text/plain": [
       "{1: [46.453335790158214,\n",
       "  12.427668714509878,\n",
       "  6.327043339355487,\n",
       "  11.361413047459768,\n",
       "  19.39500668376568,\n",
       "  6.322235263586731,\n",
       "  9.879528736999191,\n",
       "  33.88616178099905],\n",
       " 2: [41.31209778709624,\n",
       "  11.542237690249385,\n",
       "  6.409151445065549,\n",
       "  11.363573383031554,\n",
       "  19.59036345300433,\n",
       "  6.142286470538556,\n",
       "  9.970905947571532,\n",
       "  33.96094669743934],\n",
       " 3: [34.00856738706416,\n",
       "  6.968363317074113,\n",
       "  6.583234475636004,\n",
       "  8.261510641906398,\n",
       "  19.104371812217757,\n",
       "  8.120489369990583,\n",
       "  5.310515426103848,\n",
       "  27.617142971848672],\n",
       " 4: [35.795163836351115,\n",
       "  8.949175835029678,\n",
       "  5.285829756256954,\n",
       "  5.132588958722863,\n",
       "  12.491479418332142,\n",
       "  6.843264409460471,\n",
       "  4.504048927815847,\n",
       "  25.957115548752018],\n",
       " 5: [32.33464029638528,\n",
       "  7.272576990843822,\n",
       "  5.524940375229198,\n",
       "  5.596483601184559,\n",
       "  10.364405821831634,\n",
       "  5.095567591507643,\n",
       "  5.662996207037804,\n",
       "  21.546142733822034],\n",
       " 6: [28.481112170581106,\n",
       "  6.209229749092856,\n",
       "  6.691648115055796,\n",
       "  6.086698006721053,\n",
       "  9.456438513872081,\n",
       "  4.63790607817848,\n",
       "  6.623335002077715,\n",
       "  21.003187639841578],\n",
       " 7: [29.517610741976135,\n",
       "  7.63696712829983,\n",
       "  6.864476961785385,\n",
       "  5.383607805795828,\n",
       "  9.002824894033006,\n",
       "  5.903179070583178,\n",
       "  5.286893256740882,\n",
       "  21.51467419741082],\n",
       " 8: [33.06865628302417,\n",
       "  8.210827741306321,\n",
       "  6.714938279656098,\n",
       "  7.14107822766714,\n",
       "  10.765285779135365,\n",
       "  5.726418875875856,\n",
       "  4.714584122355268,\n",
       "  20.780947732761206],\n",
       " 9: [29.48978486807182,\n",
       "  8.57950519737758,\n",
       "  5.046099929014349,\n",
       "  5.42097076710454,\n",
       "  12.52212927990388,\n",
       "  5.561918424720352,\n",
       "  4.910285938686821,\n",
       "  22.04577346586641]}"
      ]
     },
     "execution_count": 116,
     "metadata": {},
     "output_type": "execute_result"
    }
   ],
   "source": [
    "hi"
   ]
  },
  {
   "cell_type": "code",
   "execution_count": 124,
   "metadata": {},
   "outputs": [
    {
     "data": {
      "text/plain": [
       "'2018-01-01'"
      ]
     },
     "execution_count": 124,
     "metadata": {},
     "output_type": "execute_result"
    }
   ],
   "source": [
    "str(pd.date_range(\"2018-01-01\",\"2020-03-03\",freq=\"QS\").tolist()[0]).split(\" \")[0]"
   ]
  },
  {
   "cell_type": "code",
   "execution_count": 125,
   "metadata": {},
   "outputs": [],
   "source": [
    "\n",
    "dates_set = []\n",
    "\n",
    "for date in pd.date_range(\"2015-01-01\",\"2021-04-01\",freq=\"QS\").tolist() :\n",
    "    dates_set.append(str(date).split(\" \")[0])"
   ]
  },
  {
   "cell_type": "code",
   "execution_count": 126,
   "metadata": {},
   "outputs": [
    {
     "data": {
      "text/plain": [
       "['2015-01-01',\n",
       " '2015-04-01',\n",
       " '2015-07-01',\n",
       " '2015-10-01',\n",
       " '2016-01-01',\n",
       " '2016-04-01',\n",
       " '2016-07-01',\n",
       " '2016-10-01',\n",
       " '2017-01-01',\n",
       " '2017-04-01',\n",
       " '2017-07-01',\n",
       " '2017-10-01',\n",
       " '2018-01-01',\n",
       " '2018-04-01',\n",
       " '2018-07-01',\n",
       " '2018-10-01',\n",
       " '2019-01-01',\n",
       " '2019-04-01',\n",
       " '2019-07-01',\n",
       " '2019-10-01',\n",
       " '2020-01-01',\n",
       " '2020-04-01',\n",
       " '2020-07-01',\n",
       " '2020-10-01',\n",
       " '2021-01-01',\n",
       " '2021-04-01']"
      ]
     },
     "execution_count": 126,
     "metadata": {},
     "output_type": "execute_result"
    }
   ],
   "source": [
    "dates_set"
   ]
  },
  {
   "cell_type": "code",
   "execution_count": null,
   "metadata": {},
   "outputs": [],
   "source": []
  }
 ],
 "metadata": {
  "kernelspec": {
   "display_name": "Python 3",
   "language": "python",
   "name": "python3"
  },
  "language_info": {
   "codemirror_mode": {
    "name": "ipython",
    "version": 3
   },
   "file_extension": ".py",
   "mimetype": "text/x-python",
   "name": "python",
   "nbconvert_exporter": "python",
   "pygments_lexer": "ipython3",
   "version": "3.8.5"
  }
 },
 "nbformat": 4,
 "nbformat_minor": 4
}
